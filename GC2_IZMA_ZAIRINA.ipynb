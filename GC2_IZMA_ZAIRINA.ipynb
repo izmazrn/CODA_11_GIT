{
  "nbformat": 4,
  "nbformat_minor": 0,
  "metadata": {
    "colab": {
      "provenance": [],
      "collapsed_sections": [
        "SEB_VdwJquxl"
      ]
    },
    "kernelspec": {
      "display_name": "Python 3",
      "name": "python3"
    },
    "language_info": {
      "name": "python"
    }
  },
  "cells": [
    {
      "cell_type": "markdown",
      "metadata": {
        "id": "L3KnF6F_IOwh"
      },
      "source": [
        "# LATIHAN - P0W1D3AM : FUNCTION"
      ]
    },
    {
      "cell_type": "markdown",
      "metadata": {
        "id": "KD9SBZu6IWat"
      },
      "source": [
        "## Required/Keyword Argument"
      ]
    },
    {
      "cell_type": "markdown",
      "metadata": {
        "id": "SABgqKWrp27J"
      },
      "source": [
        "**NOMOR 1**\n",
        "\n",
        "Buatlah sebuah function untuk menampilkan tanda plus (`+`) sebanyak\n",
        "`n`.\n",
        "  * Input : `n` | Jumlah tanda plus (`+`) yang diinginkan | int\n",
        "  * Output : Jumlah tanda plus yang ditampilkan\n",
        "\n",
        "| Input | Output |\n",
        "| - | - |\n",
        "| n = 1 | + |\n",
        "| n = 3 | + <br /> + <br /> + |\n",
        "| n = 5 | + <br /> + <br /> + <br /> + <br /> + |\n",
        "| n = 0 | Tampilkan pesan `Input salah` |\n",
        "| n = -1 | Tampilkan pesan `Input salah` |\n",
        "\n"
      ]
    },
    {
      "cell_type": "code",
      "source": [
        "# n adalah input parameter atau argumennya\n",
        "\n",
        "n = 10\n",
        "\n",
        "if n <= 0:\n",
        "  print('input salah')\n",
        "else:\n",
        "  for iterasi in range(n):\n",
        "    print('+')"
      ],
      "metadata": {
        "id": "K8IWatamFyk_",
        "colab": {
          "base_uri": "https://localhost:8080/"
        },
        "outputId": "230702d6-96fb-4d39-b9d0-82167ee7cf84"
      },
      "execution_count": 11,
      "outputs": [
        {
          "output_type": "stream",
          "name": "stdout",
          "text": [
            "+\n",
            "+\n",
            "+\n",
            "+\n",
            "+\n",
            "+\n",
            "+\n",
            "+\n",
            "+\n",
            "+\n"
          ]
        }
      ]
    },
    {
      "cell_type": "code",
      "source": [
        "def cetak_plus(n):\n",
        "  '''\n",
        "  function ini digunakan untuk mencetak simbol (+) sesuai jumlah yang digunakan didalam argumen\n",
        "  cara pakai function ini\n",
        "  cetak_plus(n) >> n adalah jumlah yang ingin dibuat\n",
        "  '''\n",
        "  if n <= 0:\n",
        "    print('input salah')\n",
        "  else:\n",
        "    for iterasi in range(5):\n",
        "      print('+')"
      ],
      "metadata": {
        "id": "VLhDykhTF96X"
      },
      "execution_count": 14,
      "outputs": []
    },
    {
      "cell_type": "markdown",
      "metadata": {
        "id": "ci9Cw5h8I7_a"
      },
      "source": [
        "**NOMOR 2**\n",
        "\n",
        "Buat sebuah function untuk mereturn hanya angka genap (positif/negatif) dari sekumpulan list yang berisi nilai-nilai (tidak termasuk 0).\n",
        "  * Input : `daftar_angka` : daftar angka-angka | list of int\n",
        "  * Output : daftar angka-angka genap | list of int\n",
        "\n",
        "| No | Input | Output |\n",
        "| - | - | - |\n",
        "| 1 | daftar_angka = [1, 2, 3, 4, 5, 6] | [2, 4, 6] |\n",
        "| 2 | daftar_angka = [0, 1, 3, 5, 7, 9] | [] |\n",
        "| 3 | daftar_angka = [-10, -9, -8, -7]  | [-10, -8] |\n"
      ]
    },
    {
      "cell_type": "code",
      "source": [
        "num = 2\n",
        "\n",
        "if num == 0:\n",
        "  print('skip')\n",
        "elif num % 2 == 0:\n",
        "  print('genap')\n",
        "else:\n",
        "  print('ganjil')"
      ],
      "metadata": {
        "id": "xijYxvEYoJvD",
        "colab": {
          "base_uri": "https://localhost:8080/"
        },
        "outputId": "7bb89f90-885f-49fa-fbe4-99d7821dd29c"
      },
      "execution_count": 1,
      "outputs": [
        {
          "output_type": "stream",
          "name": "stdout",
          "text": [
            "genap\n"
          ]
        }
      ]
    },
    {
      "cell_type": "code",
      "source": [
        "daftar_angka = [1, 2, 3, 4, 5, 6]"
      ],
      "metadata": {
        "id": "ns7XG3lHJExA"
      },
      "execution_count": 2,
      "outputs": []
    },
    {
      "cell_type": "code",
      "source": [
        "list_kosong = []\n",
        "for num in daftar_angka:\n",
        "  if num == 0:\n",
        "    pass\n",
        "  elif num % 2 == 0 and num != 0:\n",
        "    list_kosong.append(num)\n",
        "\n",
        "print(list_kosong)"
      ],
      "metadata": {
        "colab": {
          "base_uri": "https://localhost:8080/"
        },
        "id": "FAabruOLce8n",
        "outputId": "eb967c00-a421-4660-d7a3-384898d0ec9e"
      },
      "execution_count": 3,
      "outputs": [
        {
          "output_type": "stream",
          "name": "stdout",
          "text": [
            "[2, 4, 6]\n"
          ]
        }
      ]
    },
    {
      "cell_type": "code",
      "source": [
        "def cetak_angka_genap(daftar_angka):\n",
        "  list_kosong = []\n",
        "for num in daftar_angka:\n",
        "  if num % 2 == 0 and num != 0:\n",
        "    list_kosong.append(num)\n",
        "\n",
        "print(list_kosong)\n"
      ],
      "metadata": {
        "colab": {
          "base_uri": "https://localhost:8080/"
        },
        "id": "v5W3sZGBdqpx",
        "outputId": "5014fc95-caed-40d2-aa60-cd39bb842bf3"
      },
      "execution_count": 4,
      "outputs": [
        {
          "output_type": "stream",
          "name": "stdout",
          "text": [
            "[2, 4, 6, 2, 4, 6]\n"
          ]
        }
      ]
    },
    {
      "cell_type": "markdown",
      "metadata": {
        "id": "jz00PX1Sp6_S"
      },
      "source": [
        "## Default Argument"
      ]
    },
    {
      "cell_type": "markdown",
      "metadata": {
        "id": "3wEoWefTIg9a"
      },
      "source": [
        "**NOMOR 3**\n",
        "\n",
        "Buatlah sebuah function untuk menampilkan `nama` dan `negara`. Jika tidak ada value pada parameter `negara`, isi dengan `Indonesia`.\n",
        "  * Input : `nama` | str\n",
        "  * Input : `negara` | str\n",
        "\n",
        "| No | Input | Output |\n",
        "| - | - | - |\n",
        "| 1 | nama = Frank <br /> <br /> negara = USA| \"Halo Frank dari USA\" |\n",
        "| 2 | nama = Smith <br /> <br /> negara = Jerman| \"Halo Smith dari Jerman\" |\n",
        "| 3 | nama = Anton | \"Halo Anton dari Indonesia\" |\n",
        "| 4 | negara = Singapura | *--Program Error--* |"
      ]
    },
    {
      "cell_type": "code",
      "source": [
        "def cetak_nama_negara(nama = 'anonim', negara = 'indonesia'):\n",
        "  print('halo ' + nama + \" dari \" + negara )\n",
        "  print(f'halo {nama} dari {negara}')"
      ],
      "metadata": {
        "id": "YNyUKvtboJKv"
      },
      "execution_count": 5,
      "outputs": []
    },
    {
      "cell_type": "code",
      "source": [
        "cetak_nama_negara(nama = 'anton')"
      ],
      "metadata": {
        "colab": {
          "base_uri": "https://localhost:8080/"
        },
        "id": "riHpt91yMlUi",
        "outputId": "098e9020-f12d-423b-9d13-3d0035c1ab2d"
      },
      "execution_count": 43,
      "outputs": [
        {
          "output_type": "stream",
          "name": "stdout",
          "text": [
            "halo anton dari indonesia\n",
            "halo anton dari indonesia\n"
          ]
        }
      ]
    },
    {
      "cell_type": "markdown",
      "metadata": {
        "id": "318TQDqvcHKR"
      },
      "source": [
        "**NOMOR 4**\n",
        "\n",
        "Buatlah sebuah function untuk me-return luas dari dua angka yang dimasukkan berdasarkan jenis bidangnya.\n",
        "  * Jika hanya 1 angka yang dimasukkan, maka diasumsikan angka tersebut akan digunakan untuk panjang-dan-lebar atau alas-dan-tinggi.\n",
        "  * Input : `mode` : jenis bidang (segitiga/persegi) | str\n",
        "    - `mode = segitiga`\n",
        "    - `mode = persegi`\n",
        "  * Input : `bilangan_1` : bilangan ke-1 | int\n",
        "  * Input : `bilangan_2` : bilangan ke-2 | int\n",
        "  * Jika tidak ada bilangan yang dimasukkan, maka tampilkan pesan **\"Input harus ada angka\"**.\n",
        "  * Jika bilangan_1 tidak dimasukkan dan hanya ada bilangan_2, maka tampilkan pesan **\"Input harus ada bilangan_1\"**.\n",
        "\n",
        "  > *Rumus luas persegi = bilangan_1 (panjang) * bilangan_2 (lebar)*\n",
        "  >\n",
        "  > *Rumus luas segitiga = bilangan_1 (alas) * bilangan_2 (tinggi) / 2*\n",
        "\n",
        "---\n",
        "Asumsi :\n",
        "* Angka yang dimasukkan maksimal 2 angka.\n",
        "* Angka yang dimasukkan hanyalah angka yang lebih besar dari 0.\n",
        "\n",
        "*Hint : Gunakan konsep bahwa sisi bidang tidak mungkin bernilai 0.*\n",
        "\n",
        "\n",
        "| No | Input | Output |\n",
        "| - | - | - |\n",
        "| 1 | mode = persegi, <br /> <br /> bilangan_1 = 10, <br /> <br /> bilangan_2 = 20 | 200 |\n",
        "| 2 | mode = segitiga, <br /> <br /> bilangan_1 = 10, <br /> <br /> bilangan_2 = 20 | 100 |\n",
        "| 3 | mode = persegi | \"Input kurang angka\" |\n",
        "| 4 | mode = persegi, <br /> <br /> bilangan_1 = 8 | 64 |\n",
        "| 5 | mode = persegi, <br /> <br /> bilangan_2 = 8 | \"Input harus ada bilangan_1\" |\n",
        "| 6 | bilangan_1 = 10, <br /> <br /> bilangan_2 = 20 | *-Program Error-* |"
      ]
    },
    {
      "cell_type": "code",
      "source": [
        "hitung_luas('persegi', 10, 20)\n",
        "hitung_luas('segitiga', 10, 20)\n",
        "hitung_luas('persegi')\n",
        "hitung_luas('persegi', 8)\n",
        "hitung_luas('persegi', bilangan_2 = 8)\n"
      ],
      "metadata": {
        "colab": {
          "base_uri": "https://localhost:8080/",
          "height": 216
        },
        "id": "GFb-C8tZQ7zq",
        "outputId": "ab70eb61-71dd-4f9c-925f-6778570a1374"
      },
      "execution_count": 7,
      "outputs": [
        {
          "output_type": "error",
          "ename": "NameError",
          "evalue": "name 'hitung_luas' is not defined",
          "traceback": [
            "\u001b[0;31m---------------------------------------------------------------------------\u001b[0m",
            "\u001b[0;31mNameError\u001b[0m                                 Traceback (most recent call last)",
            "\u001b[0;32m/tmp/ipython-input-343038464.py\u001b[0m in \u001b[0;36m<cell line: 0>\u001b[0;34m()\u001b[0m\n\u001b[0;32m----> 1\u001b[0;31m \u001b[0mhitung_luas\u001b[0m\u001b[0;34m(\u001b[0m\u001b[0;34m'persegi'\u001b[0m\u001b[0;34m,\u001b[0m \u001b[0;36m10\u001b[0m\u001b[0;34m,\u001b[0m \u001b[0;36m20\u001b[0m\u001b[0;34m)\u001b[0m\u001b[0;34m\u001b[0m\u001b[0;34m\u001b[0m\u001b[0m\n\u001b[0m\u001b[1;32m      2\u001b[0m \u001b[0mhitung_luas\u001b[0m\u001b[0;34m(\u001b[0m\u001b[0;34m'segitiga'\u001b[0m\u001b[0;34m,\u001b[0m \u001b[0;36m10\u001b[0m\u001b[0;34m,\u001b[0m \u001b[0;36m20\u001b[0m\u001b[0;34m)\u001b[0m\u001b[0;34m\u001b[0m\u001b[0;34m\u001b[0m\u001b[0m\n\u001b[1;32m      3\u001b[0m \u001b[0mhitung_luas\u001b[0m\u001b[0;34m(\u001b[0m\u001b[0;34m'persegi'\u001b[0m\u001b[0;34m)\u001b[0m\u001b[0;34m\u001b[0m\u001b[0;34m\u001b[0m\u001b[0m\n\u001b[1;32m      4\u001b[0m \u001b[0mhitung_luas\u001b[0m\u001b[0;34m(\u001b[0m\u001b[0;34m'persegi'\u001b[0m\u001b[0;34m,\u001b[0m \u001b[0;36m8\u001b[0m\u001b[0;34m)\u001b[0m\u001b[0;34m\u001b[0m\u001b[0;34m\u001b[0m\u001b[0m\n\u001b[1;32m      5\u001b[0m \u001b[0mhitung_luas\u001b[0m\u001b[0;34m(\u001b[0m\u001b[0;34m'persegi'\u001b[0m\u001b[0;34m,\u001b[0m \u001b[0mbilangan_2\u001b[0m \u001b[0;34m=\u001b[0m \u001b[0;36m8\u001b[0m\u001b[0;34m)\u001b[0m\u001b[0;34m\u001b[0m\u001b[0;34m\u001b[0m\u001b[0m\n",
            "\u001b[0;31mNameError\u001b[0m: name 'hitung_luas' is not defined"
          ]
        }
      ]
    },
    {
      "cell_type": "code",
      "source": [
        "def calc_segitiga(alas, tinggi):\n",
        "  return 0.5 * alas * tinggi\n",
        "\n",
        "def calc_persegi(panjang, lebar):\n",
        "  return panjang * lebar"
      ],
      "metadata": {
        "id": "enSxzA3stDxd"
      },
      "execution_count": 79,
      "outputs": []
    },
    {
      "cell_type": "code",
      "source": [
        "calc_segitiga(10,5)"
      ],
      "metadata": {
        "colab": {
          "base_uri": "https://localhost:8080/"
        },
        "id": "sbfQtEjXujNk",
        "outputId": "b4d47b9c-9bdc-4ae7-b569-6b6e9ecd94b9"
      },
      "execution_count": 80,
      "outputs": [
        {
          "output_type": "execute_result",
          "data": {
            "text/plain": [
              "25.0"
            ]
          },
          "metadata": {},
          "execution_count": 80
        }
      ]
    },
    {
      "cell_type": "code",
      "source": [
        "def hitung_luas(mode, bilangan_1 = None, bilangan_2 = None):\n",
        "  if bilangan_1 == None and bilangan_2 == None:\n",
        "    print('input kurang angka')\n",
        "  elif bilangan_1 == None:\n",
        "    print('input harus ada bilangan_1')\n",
        "  elif bilangan_2 == None:\n",
        "    if mode == 'persegi':\n",
        "      return calc_persegi(bilangan_1,bilangan_1)\n",
        "    elif mode == 'segitiga':\n",
        "      return calc_segitiga(bilangan_1,bilangan_1)\n",
        "  else:\n",
        "    if mode == 'persegi':\n",
        "      return calc_persegi(bilangan_1,bilangan_1)\n",
        "    elif mode == 'segitiga':\n",
        "      return calc_segitiga(bilangan_1,bilangan_1)"
      ],
      "metadata": {
        "id": "lvl8-6JWq-wa"
      },
      "execution_count": 83,
      "outputs": []
    },
    {
      "cell_type": "code",
      "source": [
        "hitung_luas(bilangan_1 = 10, bilangan_2 = 20)"
      ],
      "metadata": {
        "colab": {
          "base_uri": "https://localhost:8080/",
          "height": 144
        },
        "id": "6Hwj1Wu-SPmt",
        "outputId": "ed8da960-eb5b-4a20-83a3-cebd68bdf31b"
      },
      "execution_count": 85,
      "outputs": [
        {
          "output_type": "error",
          "ename": "TypeError",
          "evalue": "hitung_luas() missing 1 required positional argument: 'mode'",
          "traceback": [
            "\u001b[0;31m---------------------------------------------------------------------------\u001b[0m",
            "\u001b[0;31mTypeError\u001b[0m                                 Traceback (most recent call last)",
            "\u001b[0;32m/tmp/ipython-input-3396294818.py\u001b[0m in \u001b[0;36m<cell line: 0>\u001b[0;34m()\u001b[0m\n\u001b[0;32m----> 1\u001b[0;31m \u001b[0mhitung_luas\u001b[0m\u001b[0;34m(\u001b[0m\u001b[0mbilangan_1\u001b[0m \u001b[0;34m=\u001b[0m \u001b[0;36m10\u001b[0m\u001b[0;34m,\u001b[0m \u001b[0mbilangan_2\u001b[0m \u001b[0;34m=\u001b[0m \u001b[0;36m20\u001b[0m\u001b[0;34m)\u001b[0m\u001b[0;34m\u001b[0m\u001b[0;34m\u001b[0m\u001b[0m\n\u001b[0m",
            "\u001b[0;31mTypeError\u001b[0m: hitung_luas() missing 1 required positional argument: 'mode'"
          ]
        }
      ]
    },
    {
      "cell_type": "markdown",
      "metadata": {
        "id": "382AEd81qiuI"
      },
      "source": [
        "## Variable-Length Argument"
      ]
    },
    {
      "cell_type": "markdown",
      "metadata": {
        "id": "gy1BSwZQlhyd"
      },
      "source": [
        "**NOMOR 5**\n",
        "\n",
        "Buatlah sebuah function untuk :\n",
        "  * Mereturn angka disuatu posisi berdasarkan bilangan pertama dari sebuah daftar angka-angka.\n",
        "  * Urutan posisi dimulai dari bilangan kedua.\n",
        "  * Jika bilangan pertama melebihi jumlah banyaknya daftar angka-angka, maka return **-1**.\n",
        "  * Input : daftar angka\n",
        "\n",
        "| No | Input | Output |\n",
        "| - | - | - |\n",
        "| 1 | (3, 10, 20, 30, 40) | 40 |\n",
        "| 2 | (0, -10, 10)| -10 |\n",
        "| 3 | (1, 2, 300, 10) | 300 |\n",
        "| 4 | (100, 200, 300, -400) | -1 |\n",
        "| 5 | (4, 200, 300, -400) | -1 |"
      ]
    },
    {
      "cell_type": "code",
      "source": [
        "index = 100\n",
        "data = [200, 300, -400]\n",
        "\n",
        "index = 4\n",
        "data = [200, 300, -400]"
      ],
      "metadata": {
        "id": "V_MB1HzBmBFp"
      },
      "execution_count": 8,
      "outputs": []
    },
    {
      "cell_type": "code",
      "source": [
        "data[2]"
      ],
      "metadata": {
        "colab": {
          "base_uri": "https://localhost:8080/"
        },
        "id": "HtKhwOkanhnP",
        "outputId": "f83fdeff-4e0d-410d-f498-4a5e71b749f2"
      },
      "execution_count": 9,
      "outputs": [
        {
          "output_type": "execute_result",
          "data": {
            "text/plain": [
              "-400"
            ]
          },
          "metadata": {},
          "execution_count": 9
        }
      ]
    },
    {
      "cell_type": "code",
      "source": [
        "if index >= len(data):\n",
        "  print(-1)\n",
        "else:\n",
        "    print(data[index])"
      ],
      "metadata": {
        "colab": {
          "base_uri": "https://localhost:8080/"
        },
        "id": "R3t0A26emZ3l",
        "outputId": "91ce0140-37c6-4f1a-ec47-38582573ecec"
      },
      "execution_count": 10,
      "outputs": [
        {
          "output_type": "stream",
          "name": "stdout",
          "text": [
            "-1\n"
          ]
        }
      ]
    },
    {
      "cell_type": "code",
      "source": [
        "def cetak_angka(index, *data):\n",
        "  if index >= len(data):\n",
        "    return -1\n",
        "  else:\n",
        "    print(data[index])"
      ],
      "metadata": {
        "id": "qwUYDravoWko"
      },
      "execution_count": 11,
      "outputs": []
    },
    {
      "cell_type": "code",
      "source": [
        "cetak_angka(3, [10, 20, 30, 40])"
      ],
      "metadata": {
        "colab": {
          "base_uri": "https://localhost:8080/"
        },
        "id": "3IeiYIyfWNL0",
        "outputId": "473fa350-8e16-427f-c02a-f37e2c14e772"
      },
      "execution_count": 12,
      "outputs": [
        {
          "output_type": "execute_result",
          "data": {
            "text/plain": [
              "-1"
            ]
          },
          "metadata": {},
          "execution_count": 12
        }
      ]
    },
    {
      "cell_type": "code",
      "source": [
        "cetak_angka(3, 10, 20, 40, 40)\n",
        "hasil = cetak_angka(0, -10, 10)\n",
        "print('hasil: ' , hasil)"
      ],
      "metadata": {
        "colab": {
          "base_uri": "https://localhost:8080/"
        },
        "id": "G5tqHiqqXVw3",
        "outputId": "7f663a49-b731-44f4-db67-a3da84f79330"
      },
      "execution_count": 63,
      "outputs": [
        {
          "output_type": "stream",
          "name": "stdout",
          "text": [
            "40\n",
            "-10\n",
            "hasil:  None\n"
          ]
        }
      ]
    },
    {
      "cell_type": "markdown",
      "source": [
        "## Modules\n",
        "\n",
        "---\n",
        "\n",
        "Buat file dengan judul person.py berisi\n",
        "\n",
        "```py\n",
        "name = '<namamu>'\n",
        "devices = ['laptop', 'smartphone', 'tablet']\n",
        "\n",
        "def display(nama):\n",
        "  print(f'halo {nama}!')\n",
        "```"
      ],
      "metadata": {
        "id": "Xszdp_Jbbwq5"
      }
    },
    {
      "cell_type": "code",
      "source": [
        "from google.colab import drive\n",
        "drive.mount('/content/drive')"
      ],
      "metadata": {
        "colab": {
          "base_uri": "https://localhost:8080/",
          "height": 311
        },
        "id": "kna4MwUODjXQ",
        "outputId": "c08c1696-2394-4657-e2c5-632a96102f3e"
      },
      "execution_count": 13,
      "outputs": [
        {
          "output_type": "error",
          "ename": "MessageError",
          "evalue": "Error: credential propagation was unsuccessful",
          "traceback": [
            "\u001b[0;31m---------------------------------------------------------------------------\u001b[0m",
            "\u001b[0;31mMessageError\u001b[0m                              Traceback (most recent call last)",
            "\u001b[0;32m/tmp/ipython-input-1408506528.py\u001b[0m in \u001b[0;36m<cell line: 0>\u001b[0;34m()\u001b[0m\n\u001b[1;32m      1\u001b[0m \u001b[0;32mfrom\u001b[0m \u001b[0mgoogle\u001b[0m\u001b[0;34m.\u001b[0m\u001b[0mcolab\u001b[0m \u001b[0;32mimport\u001b[0m \u001b[0mdrive\u001b[0m\u001b[0;34m\u001b[0m\u001b[0;34m\u001b[0m\u001b[0m\n\u001b[0;32m----> 2\u001b[0;31m \u001b[0mdrive\u001b[0m\u001b[0;34m.\u001b[0m\u001b[0mmount\u001b[0m\u001b[0;34m(\u001b[0m\u001b[0;34m'/content/drive'\u001b[0m\u001b[0;34m)\u001b[0m\u001b[0;34m\u001b[0m\u001b[0;34m\u001b[0m\u001b[0m\n\u001b[0m",
            "\u001b[0;32m/usr/local/lib/python3.12/dist-packages/google/colab/drive.py\u001b[0m in \u001b[0;36mmount\u001b[0;34m(mountpoint, force_remount, timeout_ms, readonly)\u001b[0m\n\u001b[1;32m     95\u001b[0m \u001b[0;32mdef\u001b[0m \u001b[0mmount\u001b[0m\u001b[0;34m(\u001b[0m\u001b[0mmountpoint\u001b[0m\u001b[0;34m,\u001b[0m \u001b[0mforce_remount\u001b[0m\u001b[0;34m=\u001b[0m\u001b[0;32mFalse\u001b[0m\u001b[0;34m,\u001b[0m \u001b[0mtimeout_ms\u001b[0m\u001b[0;34m=\u001b[0m\u001b[0;36m120000\u001b[0m\u001b[0;34m,\u001b[0m \u001b[0mreadonly\u001b[0m\u001b[0;34m=\u001b[0m\u001b[0;32mFalse\u001b[0m\u001b[0;34m)\u001b[0m\u001b[0;34m:\u001b[0m\u001b[0;34m\u001b[0m\u001b[0;34m\u001b[0m\u001b[0m\n\u001b[1;32m     96\u001b[0m   \u001b[0;34m\"\"\"Mount your Google Drive at the specified mountpoint path.\"\"\"\u001b[0m\u001b[0;34m\u001b[0m\u001b[0;34m\u001b[0m\u001b[0m\n\u001b[0;32m---> 97\u001b[0;31m   return _mount(\n\u001b[0m\u001b[1;32m     98\u001b[0m       \u001b[0mmountpoint\u001b[0m\u001b[0;34m,\u001b[0m\u001b[0;34m\u001b[0m\u001b[0;34m\u001b[0m\u001b[0m\n\u001b[1;32m     99\u001b[0m       \u001b[0mforce_remount\u001b[0m\u001b[0;34m=\u001b[0m\u001b[0mforce_remount\u001b[0m\u001b[0;34m,\u001b[0m\u001b[0;34m\u001b[0m\u001b[0;34m\u001b[0m\u001b[0m\n",
            "\u001b[0;32m/usr/local/lib/python3.12/dist-packages/google/colab/drive.py\u001b[0m in \u001b[0;36m_mount\u001b[0;34m(mountpoint, force_remount, timeout_ms, ephemeral, readonly)\u001b[0m\n\u001b[1;32m    132\u001b[0m   )\n\u001b[1;32m    133\u001b[0m   \u001b[0;32mif\u001b[0m \u001b[0mephemeral\u001b[0m\u001b[0;34m:\u001b[0m\u001b[0;34m\u001b[0m\u001b[0;34m\u001b[0m\u001b[0m\n\u001b[0;32m--> 134\u001b[0;31m     _message.blocking_request(\n\u001b[0m\u001b[1;32m    135\u001b[0m         \u001b[0;34m'request_auth'\u001b[0m\u001b[0;34m,\u001b[0m\u001b[0;34m\u001b[0m\u001b[0;34m\u001b[0m\u001b[0m\n\u001b[1;32m    136\u001b[0m         \u001b[0mrequest\u001b[0m\u001b[0;34m=\u001b[0m\u001b[0;34m{\u001b[0m\u001b[0;34m'authType'\u001b[0m\u001b[0;34m:\u001b[0m \u001b[0;34m'dfs_ephemeral'\u001b[0m\u001b[0;34m}\u001b[0m\u001b[0;34m,\u001b[0m\u001b[0;34m\u001b[0m\u001b[0;34m\u001b[0m\u001b[0m\n",
            "\u001b[0;32m/usr/local/lib/python3.12/dist-packages/google/colab/_message.py\u001b[0m in \u001b[0;36mblocking_request\u001b[0;34m(request_type, request, timeout_sec, parent)\u001b[0m\n\u001b[1;32m    174\u001b[0m       \u001b[0mrequest_type\u001b[0m\u001b[0;34m,\u001b[0m \u001b[0mrequest\u001b[0m\u001b[0;34m,\u001b[0m \u001b[0mparent\u001b[0m\u001b[0;34m=\u001b[0m\u001b[0mparent\u001b[0m\u001b[0;34m,\u001b[0m \u001b[0mexpect_reply\u001b[0m\u001b[0;34m=\u001b[0m\u001b[0;32mTrue\u001b[0m\u001b[0;34m\u001b[0m\u001b[0;34m\u001b[0m\u001b[0m\n\u001b[1;32m    175\u001b[0m   )\n\u001b[0;32m--> 176\u001b[0;31m   \u001b[0;32mreturn\u001b[0m \u001b[0mread_reply_from_input\u001b[0m\u001b[0;34m(\u001b[0m\u001b[0mrequest_id\u001b[0m\u001b[0;34m,\u001b[0m \u001b[0mtimeout_sec\u001b[0m\u001b[0;34m)\u001b[0m\u001b[0;34m\u001b[0m\u001b[0;34m\u001b[0m\u001b[0m\n\u001b[0m",
            "\u001b[0;32m/usr/local/lib/python3.12/dist-packages/google/colab/_message.py\u001b[0m in \u001b[0;36mread_reply_from_input\u001b[0;34m(message_id, timeout_sec)\u001b[0m\n\u001b[1;32m    101\u001b[0m     ):\n\u001b[1;32m    102\u001b[0m       \u001b[0;32mif\u001b[0m \u001b[0;34m'error'\u001b[0m \u001b[0;32min\u001b[0m \u001b[0mreply\u001b[0m\u001b[0;34m:\u001b[0m\u001b[0;34m\u001b[0m\u001b[0;34m\u001b[0m\u001b[0m\n\u001b[0;32m--> 103\u001b[0;31m         \u001b[0;32mraise\u001b[0m \u001b[0mMessageError\u001b[0m\u001b[0;34m(\u001b[0m\u001b[0mreply\u001b[0m\u001b[0;34m[\u001b[0m\u001b[0;34m'error'\u001b[0m\u001b[0;34m]\u001b[0m\u001b[0;34m)\u001b[0m\u001b[0;34m\u001b[0m\u001b[0;34m\u001b[0m\u001b[0m\n\u001b[0m\u001b[1;32m    104\u001b[0m       \u001b[0;32mreturn\u001b[0m \u001b[0mreply\u001b[0m\u001b[0;34m.\u001b[0m\u001b[0mget\u001b[0m\u001b[0;34m(\u001b[0m\u001b[0;34m'data'\u001b[0m\u001b[0;34m,\u001b[0m \u001b[0;32mNone\u001b[0m\u001b[0;34m)\u001b[0m\u001b[0;34m\u001b[0m\u001b[0;34m\u001b[0m\u001b[0m\n\u001b[1;32m    105\u001b[0m \u001b[0;34m\u001b[0m\u001b[0m\n",
            "\u001b[0;31mMessageError\u001b[0m: Error: credential propagation was unsuccessful"
          ]
        }
      ]
    },
    {
      "cell_type": "code",
      "source": [
        "# Import module\n",
        "import person"
      ],
      "metadata": {
        "id": "hTa7Adh-byxF",
        "colab": {
          "base_uri": "https://localhost:8080/",
          "height": 339
        },
        "outputId": "82e33293-bb03-4a2a-9d39-602ba204765b"
      },
      "execution_count": 97,
      "outputs": [
        {
          "output_type": "error",
          "ename": "ModuleNotFoundError",
          "evalue": "No module named 'person'",
          "traceback": [
            "\u001b[0;31m---------------------------------------------------------------------------\u001b[0m",
            "\u001b[0;31mModuleNotFoundError\u001b[0m                       Traceback (most recent call last)",
            "\u001b[0;32m/tmp/ipython-input-2631313386.py\u001b[0m in \u001b[0;36m<cell line: 0>\u001b[0;34m()\u001b[0m\n\u001b[1;32m      1\u001b[0m \u001b[0;31m# Import module\u001b[0m\u001b[0;34m\u001b[0m\u001b[0;34m\u001b[0m\u001b[0m\n\u001b[0;32m----> 2\u001b[0;31m \u001b[0;32mimport\u001b[0m \u001b[0mperson\u001b[0m\u001b[0;34m\u001b[0m\u001b[0;34m\u001b[0m\u001b[0m\n\u001b[0m",
            "\u001b[0;31mModuleNotFoundError\u001b[0m: No module named 'person'",
            "",
            "\u001b[0;31m---------------------------------------------------------------------------\u001b[0;32m\nNOTE: If your import is failing due to a missing package, you can\nmanually install dependencies using either !pip or !apt.\n\nTo view examples of installing some common dependencies, click the\n\"Open Examples\" button below.\n\u001b[0;31m---------------------------------------------------------------------------\u001b[0m\n"
          ],
          "errorDetails": {
            "actions": [
              {
                "action": "open_url",
                "actionText": "Open Examples",
                "url": "/notebooks/snippets/importing_libraries.ipynb"
              }
            ]
          }
        }
      ]
    },
    {
      "cell_type": "code",
      "source": [
        "# Mengakses item didalam sebuah module\n",
        "person.name\n"
      ],
      "metadata": {
        "id": "9zb8GXvlcxDP",
        "colab": {
          "base_uri": "https://localhost:8080/",
          "height": 162
        },
        "outputId": "265ba794-a6ae-4189-cd9d-aacfe926108d"
      },
      "execution_count": 98,
      "outputs": [
        {
          "output_type": "error",
          "ename": "NameError",
          "evalue": "name 'person' is not defined",
          "traceback": [
            "\u001b[0;31m---------------------------------------------------------------------------\u001b[0m",
            "\u001b[0;31mNameError\u001b[0m                                 Traceback (most recent call last)",
            "\u001b[0;32m/tmp/ipython-input-611577611.py\u001b[0m in \u001b[0;36m<cell line: 0>\u001b[0;34m()\u001b[0m\n\u001b[1;32m      1\u001b[0m \u001b[0;31m# Mengakses item didalam sebuah module\u001b[0m\u001b[0;34m\u001b[0m\u001b[0;34m\u001b[0m\u001b[0m\n\u001b[0;32m----> 2\u001b[0;31m \u001b[0mperson\u001b[0m\u001b[0;34m.\u001b[0m\u001b[0mname\u001b[0m\u001b[0;34m\u001b[0m\u001b[0;34m\u001b[0m\u001b[0m\n\u001b[0m",
            "\u001b[0;31mNameError\u001b[0m: name 'person' is not defined"
          ]
        }
      ]
    },
    {
      "cell_type": "code",
      "source": [],
      "metadata": {
        "colab": {
          "base_uri": "https://localhost:8080/"
        },
        "id": "YvKqisMZaVj2",
        "outputId": "c174dab3-7ebd-40b7-c60a-dd6411c91094"
      },
      "execution_count": null,
      "outputs": [
        {
          "output_type": "stream",
          "name": "stdout",
          "text": [
            "halo hana!\n"
          ]
        }
      ]
    },
    {
      "cell_type": "code",
      "source": [
        "# Import module dengan specific item\n",
        "\n"
      ],
      "metadata": {
        "id": "cXrcLl0HeUgz"
      },
      "execution_count": null,
      "outputs": []
    },
    {
      "cell_type": "code",
      "source": [
        "#devices  ## akan error karena tidak dilakukan import mengenai `devices`"
      ],
      "metadata": {
        "id": "VyqbXEheelUH",
        "colab": {
          "base_uri": "https://localhost:8080/",
          "height": 198
        },
        "outputId": "e1868c34-44b1-4354-b902-c8c4920bb750"
      },
      "execution_count": null,
      "outputs": [
        {
          "output_type": "error",
          "ename": "NameError",
          "evalue": "name 'devices' is not defined",
          "traceback": [
            "\u001b[0;31m---------------------------------------------------------------------------\u001b[0m",
            "\u001b[0;31mNameError\u001b[0m                                 Traceback (most recent call last)",
            "\u001b[0;32m<ipython-input-6-2ecbc9400d4c>\u001b[0m in \u001b[0;36m<cell line: 1>\u001b[0;34m()\u001b[0m\n\u001b[0;32m----> 1\u001b[0;31m \u001b[0mdevices\u001b[0m  \u001b[0;31m## akan error karena tidak dilakukan import mengenai `devices`\u001b[0m\u001b[0;34m\u001b[0m\u001b[0;34m\u001b[0m\u001b[0m\n\u001b[0m",
            "\u001b[0;31mNameError\u001b[0m: name 'devices' is not defined"
          ]
        }
      ]
    },
    {
      "cell_type": "code",
      "source": [
        "# Instalasi Package\n",
        "\n",
        "# pip install tweepy\n",
        "!pip install tweepy  # Cara yang direkomendasikan"
      ],
      "metadata": {
        "colab": {
          "base_uri": "https://localhost:8080/"
        },
        "id": "MD0sCQSRfMaL",
        "outputId": "d2510adc-41a2-4d44-9491-599b064b09bf"
      },
      "execution_count": null,
      "outputs": [
        {
          "output_type": "stream",
          "name": "stdout",
          "text": [
            "Requirement already satisfied: tweepy in /usr/local/lib/python3.10/dist-packages (4.14.0)\n",
            "Requirement already satisfied: oauthlib<4,>=3.2.0 in /usr/local/lib/python3.10/dist-packages (from tweepy) (3.2.2)\n",
            "Requirement already satisfied: requests<3,>=2.27.0 in /usr/local/lib/python3.10/dist-packages (from tweepy) (2.31.0)\n",
            "Requirement already satisfied: requests-oauthlib<2,>=1.2.0 in /usr/local/lib/python3.10/dist-packages (from tweepy) (1.3.1)\n",
            "Requirement already satisfied: charset-normalizer<4,>=2 in /usr/local/lib/python3.10/dist-packages (from requests<3,>=2.27.0->tweepy) (3.3.2)\n",
            "Requirement already satisfied: idna<4,>=2.5 in /usr/local/lib/python3.10/dist-packages (from requests<3,>=2.27.0->tweepy) (3.6)\n",
            "Requirement already satisfied: urllib3<3,>=1.21.1 in /usr/local/lib/python3.10/dist-packages (from requests<3,>=2.27.0->tweepy) (2.0.7)\n",
            "Requirement already satisfied: certifi>=2017.4.17 in /usr/local/lib/python3.10/dist-packages (from requests<3,>=2.27.0->tweepy) (2024.2.2)\n"
          ]
        }
      ]
    },
    {
      "cell_type": "markdown",
      "metadata": {
        "id": "SEB_VdwJquxl"
      },
      "source": [
        "## Free Practice"
      ]
    },
    {
      "cell_type": "markdown",
      "metadata": {
        "id": "1ZrIX3RTzgCH"
      },
      "source": [
        "**NOMOR 6**\n",
        "\n",
        "Buatlah sebuah function untuk menampilkan nama siswa yang memiliki nilai paling besar\n",
        "  * Input : Beberapa nama_siswa beserta nilai_siswa\n",
        "\n",
        "\n",
        "| No | Input | Output |\n",
        "| - | - | - |\n",
        "| 1 | (anwar=90, budi=40, charlie=100) | 'charlie' |\n",
        "| 2 | (tom=30, rian=90, jim=60, lily=70, abby=40)| 'rian' |\n",
        "| 3 | (frank=100) | 'frank' |"
      ]
    },
    {
      "cell_type": "code",
      "source": [
        "# @title\n",
        "\n",
        "'''logic: di daftar siswa ada daftar nilai dan nama, berarti inputnya dibuat\n",
        "dictionary, nanti muncul daftar nilai dan daftar nama convert ke list, untuk\n",
        "ngecek nilainya buat seperti perbandingan, nilai 1 bandingkan dengan nilai 2,\n",
        "nanti yang lebih baik masukan ke variabel temporary, kalo nilai nya lebih dari\n",
        "yg sebelumnya akan nge overwrite nilai yang sebelumnya yg ada di variabel\n",
        "tersebut. Kalo loop nya habis keluarkan nama si yg mempunyai nilai terbaik\n",
        "'''\n",
        "\n",
        "#kwargs : non-keyword arguments\n",
        "#mengubah menjadi dictionary\n",
        "\n",
        "def cek_nilai(**daftar_siswa):\n",
        "  print('daftar_siswa : ', daftar_siswa)\n",
        "\n",
        "  # Mengumpulkan daftar nama dan daftar nilai\n",
        "\n",
        "  #dipecah mana yang nama mana yg siswa\n",
        "  daftar_nama = list(daftar_siswa.keys())\n",
        "  daftar_nilai = list(daftar_siswa.values())\n",
        "\n",
        "  print('daftar_nama : ', daftar_nama)\n",
        "  print('daftar_nilai : ', daftar_nilai)\n",
        "\n",
        "  # Inisialisasi student dengan nilai tertinggi\n",
        "  terbaik_nilai = 0\n",
        "\n",
        "  # Pencarian student terbaik\n",
        "  for loop in range(len(daftar_nilai)):\n",
        "    nilai = daftar_nilai[loop]\n",
        "    nama = daftar_nama[loop]\n",
        "\n",
        "    if nilai >= terbaik_nilai:\n",
        "      terbaik_nilai = nilai\n",
        "      terbaik_nama = nama\n",
        "\n",
        "  return terbaik_nama\n",
        "\n",
        "nama_siswa_terbaik = cek_nilai(anwar=90, budi=40, charlie=100)\n",
        "print('Nama Siswa Terbaik : ', nama_siswa_terbaik)"
      ],
      "metadata": {
        "colab": {
          "base_uri": "https://localhost:8080/"
        },
        "id": "25Jr2bp2XQx8",
        "outputId": "d44f2e05-a446-4a61-af1b-0bb317176f26"
      },
      "execution_count": null,
      "outputs": [
        {
          "output_type": "stream",
          "name": "stdout",
          "text": [
            "daftar_siswa :  {'anwar': 90, 'budi': 40, 'charlie': 100}\n",
            "daftar_nama :  ['anwar', 'budi', 'charlie']\n",
            "daftar_nilai :  [90, 40, 100]\n",
            "Nama Siswa Terbaik :  charlie\n"
          ]
        }
      ]
    },
    {
      "cell_type": "markdown",
      "metadata": {
        "id": "m6GJVgJLIKkA"
      },
      "source": [
        "**NOMOR 7**\n",
        "\n",
        "Buatlah sebuah function untuk menampilkan tanda plus (`+`) berbentuk segitiga dibawah ini.\n",
        "  * Input : `n` | int\n",
        "  * Output : Jumlah tanda plus yang dimunculkan.\n",
        "\n",
        "| Input | Output |\n",
        "| - | - |\n",
        "| n = 1 | + |\n",
        "| n = 2 | ++ <br /> +|\n",
        "| n = 3 | +++ <br /> ++ <br /> +|\n",
        "| n = 4 | ++++ <br /> +++ <br /> ++ <br /> +|\n",
        "| n = 5 | +++++ <br /> ++++ <br /> +++ <br /> ++ <br /> +|\n",
        "| n = -1 | *--error--* |\n",
        "\n"
      ]
    },
    {
      "cell_type": "markdown",
      "metadata": {
        "id": "IlLSwYyvrf1D"
      },
      "source": [
        "**NOMOR 8**\n",
        "\n",
        "Buatlah sebuah function untuk mengambil huruf vokal dari sebuah teks dan masukkan ke dalam sebuah list. Return list yang terdiri dari huruf vokal tersebut.\n",
        "  * Input : `teks` | str\n",
        "\n",
        "| No | Input | Output |\n",
        "| - | - | - |\n",
        "| 1 | teks = 'selamat pagi' | ['e', 'a', 'a', 'a', 'i'] |\n",
        "| 2 | teks = '1002'| [] |\n",
        "| 3 | teks = 'myth' | [] |"
      ]
    },
    {
      "cell_type": "markdown",
      "metadata": {
        "id": "TwH2khkhxONF"
      },
      "source": [
        "**NOMOR 9**\n",
        "\n",
        "Buatlah sebuah function untuk mengambil huruf selain huruf vokal (huruf konsonan) dari sebuah teks dan masukkan ke dalam sebuah list. Return list yang terdiri dari huruf konsonan tersebut.\n",
        "  * Input : `teks` | str\n",
        "  * Jika karakter tersebut merupakan angka, maka jangan diambil.\n",
        "\n",
        "| No | Input | Output |\n",
        "| - | - | - |\n",
        "| 1 | teks = 'selamat pagi' | ['s', 'l', 'm', 't', 'p', 'g] |\n",
        "| 2 | teks = '1002'| [] |\n",
        "| 3 | teks = 'myth' | ['m', 'y', 't', 'h'] |\n",
        "\n"
      ]
    },
    {
      "cell_type": "markdown",
      "metadata": {
        "id": "v7T-3NfFVM6E"
      },
      "source": [
        "**NOMOR 10**\n",
        "\n",
        "Buatlah sebuah function untuk mereturn hasil pengecekan dari sekumpulan angka yang dimasukkan, apakah bilangan pertama merupakan penjumlahan dari bilangan kedua, ketiga, dst (asumsikan bilangan yang dimasukkan tidak terbatas).\n",
        "  * Input : `bil_1` : bilangan ke-1 | int\n",
        "  * Input : `bil_2` : bilangan ke-2 | int\n",
        "  * Input : `bil_3` : bilangan ke-3 | int\n",
        "  * Input : `bil_4` : bilangan ke-4 | int\n",
        "  * dst\n",
        "\n",
        "| No | Input | Output |\n",
        "| - | - | - |\n",
        "| 1 | bil_1 = 10, <br/><br/> bil_2 = 20, <br/><br/> bil_3 = 50, <br/><br/> bil_4 = 600 | False |\n",
        "| 2 | bil_1 = 0, <br/><br/> bil_2 = 10, <br/><br/> bil_3 = -10 | True |\n",
        "| 3 | bil_1 = 20, <br/><br/> bil_2 = 20 | True |\n",
        "| 4 | bil_1 = 20 | False |\n",
        "| 5 | bil_1 = 10, <br/><br/> bil_2 = 200, <br/><br/> bil_3 = 300, <br/><br/> bil_4 = 400 <br/> <br/> bil_5 = 500 | False |"
      ]
    }
  ]
}